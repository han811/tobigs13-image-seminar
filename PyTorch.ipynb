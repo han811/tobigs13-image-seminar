{
  "nbformat": 4,
  "nbformat_minor": 0,
  "metadata": {
    "kernelspec": {
      "display_name": "Python 3",
      "name": "python3",
      "language": "python"
    },
    "toc": {
      "nav_menu": {},
      "toc_window_display": false,
      "toc_section_display": "block",
      "sideBar": true,
      "number_sections": true,
      "skip_h1_title": false,
      "toc_position": {},
      "toc_cell": false
    },
    "varInspector": {
      "kernels_config": {
        "python": {
          "delete_cmd_postfix": "",
          "library": "var_list.py",
          "delete_cmd_prefix": "del ",
          "varRefreshCmd": "print(var_dic_list())"
        },
        "r": {
          "delete_cmd_postfix": ") ",
          "library": "var_list.r",
          "delete_cmd_prefix": "rm(",
          "varRefreshCmd": "cat(var_dic_list()) "
        }
      },
      "cols": {
        "lenType": 16,
        "lenName": 16,
        "lenVar": 40
      },
      "types_to_exclude": [
        "module",
        "function",
        "builtin_function_or_method",
        "instance",
        "_Feature"
      ],
      "window_display": false
    },
    "language_info": {
      "mimetype": "text/x-python",
      "nbconvert_exporter": "python",
      "name": "python",
      "file_extension": ".py",
      "version": "3.7.1",
      "pygments_lexer": "ipython3",
      "codemirror_mode": {
        "version": 3,
        "name": "ipython"
      }
    },
    "colab": {
      "name": "PyTorch.ipynb",
      "provenance": [],
      "collapsed_sections": [],
      "include_colab_link": true
    },
    "accelerator": "GPU",
    "widgets": {
      "application/vnd.jupyter.widget-state+json": {
        "de3ee047e9414372b53e74d5a42bfea5": {
          "model_module": "@jupyter-widgets/controls",
          "model_name": "HBoxModel",
          "state": {
            "_view_name": "HBoxView",
            "_dom_classes": [],
            "_model_name": "HBoxModel",
            "_view_module": "@jupyter-widgets/controls",
            "_model_module_version": "1.5.0",
            "_view_count": null,
            "_view_module_version": "1.5.0",
            "box_style": "",
            "layout": "IPY_MODEL_e5c3a910c52843ae9702374b10561a85",
            "_model_module": "@jupyter-widgets/controls",
            "children": [
              "IPY_MODEL_0f6792149cff4d8f9c7dfc031801e9c6",
              "IPY_MODEL_cbdcacc3c81c4d95adfc63e089ddbd6d"
            ]
          }
        },
        "e5c3a910c52843ae9702374b10561a85": {
          "model_module": "@jupyter-widgets/base",
          "model_name": "LayoutModel",
          "state": {
            "_view_name": "LayoutView",
            "grid_template_rows": null,
            "right": null,
            "justify_content": null,
            "_view_module": "@jupyter-widgets/base",
            "overflow": null,
            "_model_module_version": "1.2.0",
            "_view_count": null,
            "flex_flow": null,
            "width": null,
            "min_width": null,
            "border": null,
            "align_items": null,
            "bottom": null,
            "_model_module": "@jupyter-widgets/base",
            "top": null,
            "grid_column": null,
            "overflow_y": null,
            "overflow_x": null,
            "grid_auto_flow": null,
            "grid_area": null,
            "grid_template_columns": null,
            "flex": null,
            "_model_name": "LayoutModel",
            "justify_items": null,
            "grid_row": null,
            "max_height": null,
            "align_content": null,
            "visibility": null,
            "align_self": null,
            "height": null,
            "min_height": null,
            "padding": null,
            "grid_auto_rows": null,
            "grid_gap": null,
            "max_width": null,
            "order": null,
            "_view_module_version": "1.2.0",
            "grid_template_areas": null,
            "object_position": null,
            "object_fit": null,
            "grid_auto_columns": null,
            "margin": null,
            "display": null,
            "left": null
          }
        },
        "0f6792149cff4d8f9c7dfc031801e9c6": {
          "model_module": "@jupyter-widgets/controls",
          "model_name": "FloatProgressModel",
          "state": {
            "_view_name": "ProgressView",
            "style": "IPY_MODEL_1dc0ae7397bb4044b5360300bf833ecd",
            "_dom_classes": [],
            "description": "",
            "_model_name": "FloatProgressModel",
            "bar_style": "info",
            "max": 1,
            "_view_module": "@jupyter-widgets/controls",
            "_model_module_version": "1.5.0",
            "value": 1,
            "_view_count": null,
            "_view_module_version": "1.5.0",
            "orientation": "horizontal",
            "min": 0,
            "description_tooltip": null,
            "_model_module": "@jupyter-widgets/controls",
            "layout": "IPY_MODEL_20a543b12c9349c9b2c5e9d5fdfd197c"
          }
        },
        "cbdcacc3c81c4d95adfc63e089ddbd6d": {
          "model_module": "@jupyter-widgets/controls",
          "model_name": "HTMLModel",
          "state": {
            "_view_name": "HTMLView",
            "style": "IPY_MODEL_d82d8606725d4ed09384557856a98ea9",
            "_dom_classes": [],
            "description": "",
            "_model_name": "HTMLModel",
            "placeholder": "​",
            "_view_module": "@jupyter-widgets/controls",
            "_model_module_version": "1.5.0",
            "value": " 170500096/? [00:20&lt;00:00, 40730102.66it/s]",
            "_view_count": null,
            "_view_module_version": "1.5.0",
            "description_tooltip": null,
            "_model_module": "@jupyter-widgets/controls",
            "layout": "IPY_MODEL_0da3cb6dffda4245829461ef60d1a333"
          }
        },
        "1dc0ae7397bb4044b5360300bf833ecd": {
          "model_module": "@jupyter-widgets/controls",
          "model_name": "ProgressStyleModel",
          "state": {
            "_view_name": "StyleView",
            "_model_name": "ProgressStyleModel",
            "description_width": "initial",
            "_view_module": "@jupyter-widgets/base",
            "_model_module_version": "1.5.0",
            "_view_count": null,
            "_view_module_version": "1.2.0",
            "bar_color": null,
            "_model_module": "@jupyter-widgets/controls"
          }
        },
        "20a543b12c9349c9b2c5e9d5fdfd197c": {
          "model_module": "@jupyter-widgets/base",
          "model_name": "LayoutModel",
          "state": {
            "_view_name": "LayoutView",
            "grid_template_rows": null,
            "right": null,
            "justify_content": null,
            "_view_module": "@jupyter-widgets/base",
            "overflow": null,
            "_model_module_version": "1.2.0",
            "_view_count": null,
            "flex_flow": null,
            "width": null,
            "min_width": null,
            "border": null,
            "align_items": null,
            "bottom": null,
            "_model_module": "@jupyter-widgets/base",
            "top": null,
            "grid_column": null,
            "overflow_y": null,
            "overflow_x": null,
            "grid_auto_flow": null,
            "grid_area": null,
            "grid_template_columns": null,
            "flex": null,
            "_model_name": "LayoutModel",
            "justify_items": null,
            "grid_row": null,
            "max_height": null,
            "align_content": null,
            "visibility": null,
            "align_self": null,
            "height": null,
            "min_height": null,
            "padding": null,
            "grid_auto_rows": null,
            "grid_gap": null,
            "max_width": null,
            "order": null,
            "_view_module_version": "1.2.0",
            "grid_template_areas": null,
            "object_position": null,
            "object_fit": null,
            "grid_auto_columns": null,
            "margin": null,
            "display": null,
            "left": null
          }
        },
        "d82d8606725d4ed09384557856a98ea9": {
          "model_module": "@jupyter-widgets/controls",
          "model_name": "DescriptionStyleModel",
          "state": {
            "_view_name": "StyleView",
            "_model_name": "DescriptionStyleModel",
            "description_width": "",
            "_view_module": "@jupyter-widgets/base",
            "_model_module_version": "1.5.0",
            "_view_count": null,
            "_view_module_version": "1.2.0",
            "_model_module": "@jupyter-widgets/controls"
          }
        },
        "0da3cb6dffda4245829461ef60d1a333": {
          "model_module": "@jupyter-widgets/base",
          "model_name": "LayoutModel",
          "state": {
            "_view_name": "LayoutView",
            "grid_template_rows": null,
            "right": null,
            "justify_content": null,
            "_view_module": "@jupyter-widgets/base",
            "overflow": null,
            "_model_module_version": "1.2.0",
            "_view_count": null,
            "flex_flow": null,
            "width": null,
            "min_width": null,
            "border": null,
            "align_items": null,
            "bottom": null,
            "_model_module": "@jupyter-widgets/base",
            "top": null,
            "grid_column": null,
            "overflow_y": null,
            "overflow_x": null,
            "grid_auto_flow": null,
            "grid_area": null,
            "grid_template_columns": null,
            "flex": null,
            "_model_name": "LayoutModel",
            "justify_items": null,
            "grid_row": null,
            "max_height": null,
            "align_content": null,
            "visibility": null,
            "align_self": null,
            "height": null,
            "min_height": null,
            "padding": null,
            "grid_auto_rows": null,
            "grid_gap": null,
            "max_width": null,
            "order": null,
            "_view_module_version": "1.2.0",
            "grid_template_areas": null,
            "object_position": null,
            "object_fit": null,
            "grid_auto_columns": null,
            "margin": null,
            "display": null,
            "left": null
          }
        }
      }
    }
  },
  "cells": [
    {
      "cell_type": "markdown",
      "metadata": {
        "id": "view-in-github",
        "colab_type": "text"
      },
      "source": [
        "<a href=\"https://colab.research.google.com/github/han811/tobigs13-image-seminar/blob/Yejin_Assignment/PyTorch.ipynb\" target=\"_parent\"><img src=\"https://colab.research.google.com/assets/colab-badge.svg\" alt=\"Open In Colab\"/></a>"
      ]
    },
    {
      "cell_type": "markdown",
      "metadata": {
        "tags": [
          "pdf-title"
        ],
        "id": "Qr0eo--NEw7e",
        "colab_type": "text"
      },
      "source": [
        "# What's this PyTorch business?\n",
        "\n",
        "You've written a lot of code in this assignment to provide a whole host of neural network functionality. Dropout, Batch Norm, and 2D convolutions are some of the workhorses of deep learning in computer vision. You've also worked hard to make your code efficient and vectorized.\n",
        "\n",
        "For the last part of this assignment, though, we're going to leave behind your beautiful codebase and instead migrate to one of two popular deep learning frameworks: in this instance, PyTorch (or TensorFlow, if you choose to use that notebook)."
      ]
    },
    {
      "cell_type": "markdown",
      "metadata": {
        "tags": [
          "pdf-ignore"
        ],
        "id": "dcLjbM2gEw7j",
        "colab_type": "text"
      },
      "source": [
        "### What is PyTorch?\n",
        "\n",
        "PyTorch is a system for executing dynamic computational graphs over Tensor objects that behave similarly as numpy ndarray. It comes with a powerful automatic differentiation engine that removes the need for manual back-propagation. \n",
        "\n",
        "### Why?\n",
        "\n",
        "* Our code will now run on GPUs! Much faster training. When using a framework like PyTorch or TensorFlow you can harness the power of the GPU for your own custom neural network architectures without having to write CUDA code directly (which is beyond the scope of this class).\n",
        "* We want you to be ready to use one of these frameworks for your project so you can experiment more efficiently than if you were writing every feature you want to use by hand. \n",
        "* We want you to stand on the shoulders of giants! TensorFlow and PyTorch are both excellent frameworks that will make your lives a lot easier, and now that you understand their guts, you are free to use them :) \n",
        "* We want you to be exposed to the sort of deep learning code you might run into in academia or industry.\n",
        "\n",
        "### PyTorch versions\n",
        "This notebook assumes that you are using **PyTorch version 1.0**. In some of the previous versions (e.g. before 0.4), Tensors had to be wrapped in Variable objects to be used in autograd; however Variables have now been deprecated. In addition 1.0 also separates a Tensor's datatype from its device, and uses numpy-style factories for constructing Tensors rather than directly invoking Tensor constructors."
      ]
    },
    {
      "cell_type": "markdown",
      "metadata": {
        "tags": [
          "pdf-ignore"
        ],
        "id": "oyjME_CvEw7l",
        "colab_type": "text"
      },
      "source": [
        "## How will I learn PyTorch?\n",
        "\n",
        "Justin Johnson has made an excellent [tutorial](https://github.com/jcjohnson/pytorch-examples) for PyTorch. \n",
        "\n",
        "You can also find the detailed [API doc](http://pytorch.org/docs/stable/index.html) here. If you have other questions that are not addressed by the API docs, the [PyTorch forum](https://discuss.pytorch.org/) is a much better place to ask than StackOverflow.\n",
        "\n",
        "\n",
        "# Table of Contents\n",
        "\n",
        "This assignment has 5 parts. You will learn PyTorch on **three different levels of abstraction**, which will help you understand it better and prepare you for the final project. \n",
        "\n",
        "1. Part I, Preparation: we will use CIFAR-10 dataset.\n",
        "2. Part II, Barebones PyTorch: **Abstraction level 1**, we will work directly with the lowest-level PyTorch Tensors. \n",
        "3. Part III, PyTorch Module API: **Abstraction level 2**, we will use `nn.Module` to define arbitrary neural network architecture. \n",
        "4. Part IV, PyTorch Sequential API: **Abstraction level 3**, we will use `nn.Sequential` to define a linear feed-forward network very conveniently. \n",
        "5. Part V, CIFAR-10 open-ended challenge: please implement your own network to get as high accuracy as possible on CIFAR-10. You can experiment with any layer, optimizer, hyperparameters or other advanced features. \n",
        "\n",
        "Here is a table of comparison:\n",
        "\n",
        "| API           | Flexibility | Convenience |\n",
        "|---------------|-------------|-------------|\n",
        "| Barebone      | High        | Low         |\n",
        "| `nn.Module`     | High        | Medium      |\n",
        "| `nn.Sequential` | Low         | High        |"
      ]
    },
    {
      "cell_type": "markdown",
      "metadata": {
        "id": "IuG1SUqUEw7n",
        "colab_type": "text"
      },
      "source": [
        "# Part I. Preparation\n",
        "\n",
        "First, we load the CIFAR-10 dataset. This might take a couple minutes the first time you do it, but the files should stay cached after that.\n",
        "\n",
        "In previous parts of the assignment we had to write our own code to download the CIFAR-10 dataset, preprocess it, and iterate through it in minibatches; PyTorch provides convenient tools to automate this process for us."
      ]
    },
    {
      "cell_type": "code",
      "metadata": {
        "tags": [
          "pdf-ignore"
        ],
        "id": "AXMJuO_MEw7p",
        "colab_type": "code",
        "colab": {}
      },
      "source": [
        "import torch\n",
        "import torch.nn as nn\n",
        "import torch.optim as optim\n",
        "from torch.utils.data import DataLoader\n",
        "from torch.utils.data import sampler\n",
        "\n",
        "import torchvision.datasets as dset\n",
        "import torchvision.transforms as T\n",
        "\n",
        "import numpy as np"
      ],
      "execution_count": 0,
      "outputs": []
    },
    {
      "cell_type": "code",
      "metadata": {
        "tags": [
          "pdf-ignore"
        ],
        "id": "DIG-Q7iTEw71",
        "colab_type": "code",
        "outputId": "23ebc39e-0e71-4aae-def6-ba2501870a49",
        "colab": {
          "base_uri": "https://localhost:8080/",
          "height": 124,
          "referenced_widgets": [
            "de3ee047e9414372b53e74d5a42bfea5",
            "e5c3a910c52843ae9702374b10561a85",
            "0f6792149cff4d8f9c7dfc031801e9c6",
            "cbdcacc3c81c4d95adfc63e089ddbd6d",
            "1dc0ae7397bb4044b5360300bf833ecd",
            "20a543b12c9349c9b2c5e9d5fdfd197c",
            "d82d8606725d4ed09384557856a98ea9",
            "0da3cb6dffda4245829461ef60d1a333"
          ]
        }
      },
      "source": [
        "NUM_TRAIN = 49000\n",
        "\n",
        "# The torchvision.transforms package provides tools for preprocessing data\n",
        "# and for performing data augmentation; here we set up a transform to\n",
        "# preprocess the data by subtracting the mean RGB value and dividing by the\n",
        "# standard deviation of each RGB value; we've hardcoded the mean and std.\n",
        "\n",
        "## torchvision 패키지로 데이터 preprocessing,cifar data의 RGB추출.-> ToTensor\n",
        "## transform 설정\n",
        "transform = T.Compose([\n",
        "                T.ToTensor(),\n",
        "                T.Normalize((0.4914, 0.4822, 0.4465), (0.2023, 0.1994, 0.2010))\n",
        "            ])\n",
        "\n",
        "# We set up a Dataset object for each split (train / val / test); Datasets load\n",
        "# training examples one at a time, so we wrap each Dataset in a DataLoader which\n",
        "# iterates through the Dataset and forms minibatches. We divide the CIFAR-10\n",
        "# training set into train and val sets by passing a Sampler object to the\n",
        "# DataLoader telling how it should sample from the underlying Dataset.\n",
        "\n",
        "## dataset 나누기 - train, val, test\n",
        "## training data는 minibatch들로 나눔\n",
        "## dataloader 는 data불러오기를 설정된 값으로 반복적으로 진행해줌.\n",
        "\n",
        "cifar10_train = dset.CIFAR10('./cs231n/datasets', train=True, download=True,\n",
        "                             transform=transform)\n",
        "loader_train = DataLoader(cifar10_train, batch_size=64, \n",
        "                          sampler=sampler.SubsetRandomSampler(range(NUM_TRAIN)))\n",
        "\n",
        "cifar10_val = dset.CIFAR10('./cs231n/datasets', train=True, download=True,\n",
        "                           transform=transform)\n",
        "loader_val = DataLoader(cifar10_val, batch_size=64, \n",
        "                        sampler=sampler.SubsetRandomSampler(range(NUM_TRAIN, 50000)))\n",
        "\n",
        "cifar10_test = dset.CIFAR10('./cs231n/datasets', train=False, download=True, \n",
        "                            transform=transform)\n",
        "loader_test = DataLoader(cifar10_test, batch_size=64)"
      ],
      "execution_count": 2,
      "outputs": [
        {
          "output_type": "stream",
          "text": [
            "Downloading https://www.cs.toronto.edu/~kriz/cifar-10-python.tar.gz to ./cs231n/datasets/cifar-10-python.tar.gz\n"
          ],
          "name": "stdout"
        },
        {
          "output_type": "display_data",
          "data": {
            "application/vnd.jupyter.widget-view+json": {
              "model_id": "de3ee047e9414372b53e74d5a42bfea5",
              "version_minor": 0,
              "version_major": 2
            },
            "text/plain": [
              "HBox(children=(FloatProgress(value=1.0, bar_style='info', max=1.0), HTML(value='')))"
            ]
          },
          "metadata": {
            "tags": []
          }
        },
        {
          "output_type": "stream",
          "text": [
            "Extracting ./cs231n/datasets/cifar-10-python.tar.gz to ./cs231n/datasets\n",
            "Files already downloaded and verified\n",
            "Files already downloaded and verified\n"
          ],
          "name": "stdout"
        }
      ]
    },
    {
      "cell_type": "markdown",
      "metadata": {
        "tags": [
          "pdf-ignore"
        ],
        "id": "jPO6quYeEw8C",
        "colab_type": "text"
      },
      "source": [
        "You have an option to **use GPU by setting the flag to True below**. It is not necessary to use GPU for this assignment. Note that if your computer does not have CUDA enabled, `torch.cuda.is_available()` will return False and this notebook will fallback to CPU mode.\n",
        "\n",
        "The global variables `dtype` and `device` will control the data types throughout this assignment. "
      ]
    },
    {
      "cell_type": "code",
      "metadata": {
        "tags": [
          "pdf-ignore-input"
        ],
        "id": "BcSkQeZaEw8E",
        "colab_type": "code",
        "outputId": "2ea51c65-3ca2-4bdf-bc4c-aef8360d971c",
        "colab": {
          "base_uri": "https://localhost:8080/",
          "height": 36
        }
      },
      "source": [
        "## GPU 쓰기 때문에 torch.cuda 사용, \n",
        "\n",
        "USE_GPU = True\n",
        "\n",
        "dtype = torch.float32 # we will be using float throughout this tutorial\n",
        "\n",
        "if USE_GPU and torch.cuda.is_available():\n",
        "    device = torch.device('cuda')\n",
        "else:\n",
        "    device = torch.device('cpu')\n",
        "\n",
        "# Constant to control how frequently we print train loss\n",
        "print_every = 100\n",
        "\n",
        "print('using device:', device)"
      ],
      "execution_count": 3,
      "outputs": [
        {
          "output_type": "stream",
          "text": [
            "using device: cuda\n"
          ],
          "name": "stdout"
        }
      ]
    },
    {
      "cell_type": "markdown",
      "metadata": {
        "id": "xjgdAWeSEw8M",
        "colab_type": "text"
      },
      "source": [
        "# Part II. Barebones PyTorch\n",
        "\n",
        "PyTorch ships with high-level APIs to help us define model architectures conveniently, which we will cover in Part II of this tutorial. In this section, we will start with the barebone PyTorch elements to understand the autograd engine better. After this exercise, you will come to appreciate the high-level model API more.\n",
        "\n",
        "We will start with a simple fully-connected ReLU network with two hidden layers and no biases for CIFAR classification. \n",
        "This implementation computes the forward pass using operations on PyTorch Tensors, and uses PyTorch autograd to compute gradients. It is important that you understand every line, because you will write a harder version after the example.\n",
        "\n",
        "When we create a PyTorch Tensor with `requires_grad=True`, then operations involving that Tensor will not just compute values; they will also build up a computational graph in the background, allowing us to easily backpropagate through the graph to compute gradients of some Tensors with respect to a downstream loss. Concretely if x is a Tensor with `x.requires_grad == True` then after backpropagation `x.grad` will be another Tensor holding the gradient of x with respect to the scalar loss at the end."
      ]
    },
    {
      "cell_type": "markdown",
      "metadata": {
        "id": "ImCesmvkJBVK",
        "colab_type": "text"
      },
      "source": [
        "#->\n",
        "1. torch는 부분적 조립 컴퓨터다\n",
        "2. ReLU, two hidden layers, no biases for CIFAR 할 것.\n",
        "3. pytorch tensor 사용해서 forward 계산 -> pytorch autograd 사용해서 gradients 계산할 것.\n",
        "4. 한 줄 한 줄 모두 이해하는 것이 중요\n",
        "5. 전체적인 과정이 shape이해하고 과정이해하고 중간에 fuction 만들고 function test 의 반복으로 이뤄져있음\n"
      ]
    },
    {
      "cell_type": "markdown",
      "metadata": {
        "tags": [
          "pdf-ignore"
        ],
        "id": "iMMgXswPEw8O",
        "colab_type": "text"
      },
      "source": [
        "### PyTorch Tensors: Flatten Function\n",
        "A PyTorch Tensor is conceptionally similar to a numpy array: it is an n-dimensional grid of numbers, and like numpy PyTorch provides many functions to efficiently operate on Tensors. As a simple example, we provide a `flatten` function below which reshapes image data for use in a fully-connected neural network.\n",
        "\n",
        "Recall that image data is typically stored in a Tensor of shape N x C x H x W, where:\n",
        "\n",
        "* N is the number of datapoints\n",
        "* C is the number of channels\n",
        "* H is the height of the intermediate feature map in pixels\n",
        "* W is the height of the intermediate feature map in pixels\n",
        "\n",
        "This is the right way to represent the data when we are doing something like a 2D convolution, that needs spatial understanding of where the intermediate features are relative to each other. When we use fully connected affine layers to process the image, however, we want each datapoint to be represented by a single vector -- it's no longer useful to segregate the different channels, rows, and columns of the data. So, we use a \"flatten\" operation to collapse the `C x H x W` values per representation into a single long vector. The flatten function below first reads in the N, C, H, and W values from a given batch of data, and then returns a \"view\" of that data. \"View\" is analogous to numpy's \"reshape\" method: it reshapes x's dimensions to be N x ??, where ?? is allowed to be anything (in this case, it will be C x H x W, but we don't need to specify that explicitly). "
      ]
    },
    {
      "cell_type": "markdown",
      "metadata": {
        "id": "tWmRFbGeLbl1",
        "colab_type": "text"
      },
      "source": [
        "1. affine layer = FC layer : 모든 노드에 연결된 레이어\n",
        "2. image data 의 tensor N x C x H x W (tensor : 3차 이상의 vector, 공간에서의 vector값)\n",
        "3. flatten operation 사용하는데 C x H x W로 구성\n",
        "4. flatten function은 N,C,H 에다가 batch 만큼의 W로 구성됨\n",
        "5. veiw의 사용 -> numpy의 reshape 기능 , it reshapes x's dimensions to be N x ??, where ?? is allowed to be anything (in this case, it will be C x H x W, but we don't need to specify that explicitly)\n",
        "\n",
        "\n",
        "### -> 종합적으로 FC layer의 모양 떠올리면 될 듯. \n"
      ]
    },
    {
      "cell_type": "code",
      "metadata": {
        "tags": [
          "pdf-ignore-input"
        ],
        "id": "GH3UjpZOEw8Q",
        "colab_type": "code",
        "outputId": "164d87d2-d970-4fd9-8c16-c5e494b69550",
        "colab": {
          "base_uri": "https://localhost:8080/",
          "height": 204
        }
      },
      "source": [
        "## 이미지 vector들을 N * 1로 길게 펴줌\n",
        "def flatten(x):\n",
        "    N = x.shape[0] # read in N, C, H, W\n",
        "    return x.view(N, -1)  # \"flatten\" the C * H * W values into a single vector per image\n",
        "\n",
        "## test\n",
        "def test_flatten():\n",
        "    x = torch.arange(12).view(2, 1, 3, 2) ## 2*1 vector를 3개씩 2개의 배열로 만듦\n",
        "    print('Before flattening: ', x)\n",
        "    print('After flattening: ', flatten(x))\n",
        "\n",
        "test_flatten()     # flatten 함수를 통과해서 다 펴줌"
      ],
      "execution_count": 4,
      "outputs": [
        {
          "output_type": "stream",
          "text": [
            "Before flattening:  tensor([[[[ 0,  1],\n",
            "          [ 2,  3],\n",
            "          [ 4,  5]]],\n",
            "\n",
            "\n",
            "        [[[ 6,  7],\n",
            "          [ 8,  9],\n",
            "          [10, 11]]]])\n",
            "After flattening:  tensor([[ 0,  1,  2,  3,  4,  5],\n",
            "        [ 6,  7,  8,  9, 10, 11]])\n"
          ],
          "name": "stdout"
        }
      ]
    },
    {
      "cell_type": "markdown",
      "metadata": {
        "tags": [
          "pdf-ignore"
        ],
        "id": "AMpmjAzTEw8b",
        "colab_type": "text"
      },
      "source": [
        "### Barebones PyTorch: Two-Layer Network\n",
        "\n",
        "Here we define a function `two_layer_fc` which performs the forward pass of a two-layer fully-connected ReLU network on a batch of image data. After defining the forward pass we check that it doesn't crash and that it produces outputs of the right shape by running zeros through the network.\n",
        "\n",
        "You don't have to write any code here, but it's important that you read and understand the implementation."
      ]
    },
    {
      "cell_type": "markdown",
      "metadata": {
        "id": "LyOzGqG9PJbm",
        "colab_type": "text"
      },
      "source": [
        "## ->\n",
        "1. function two_layer_fc를 정의하는데 activation function은 ReLU사용, 두 레이어 모두 fc layer\n",
        "2. code보다 이해가 중요한 파트\n"
      ]
    },
    {
      "cell_type": "code",
      "metadata": {
        "tags": [
          "pdf-ignore-input"
        ],
        "id": "Ne3xzMjIEw8c",
        "colab_type": "code",
        "outputId": "2e8ca7e3-3f29-401b-8e44-b7ddcac69bb9",
        "colab": {
          "base_uri": "https://localhost:8080/",
          "height": 36
        }
      },
      "source": [
        "import torch.nn.functional as F  # useful stateless functions\n",
        "\n",
        "def two_layer_fc(x, params):\n",
        "    \"\"\"\n",
        "    A fully-connected neural networks; the architecture is:\n",
        "    NN is fully connected -> ReLU -> fully connected layer.\n",
        "    Note that this function only defines the forward pass; \n",
        "    PyTorch will take care of the backward pass for us.\n",
        "    \n",
        "    The input to the network will be a minibatch of data, of shape\n",
        "    (N, d1, ..., dM) where d1 * ... * dM = D. The hidden layer will have H units,\n",
        "    and the output layer will produce scores for C classes.\n",
        "    \n",
        "    Inputs:\n",
        "    - x: A PyTorch Tensor of shape (N, d1, ..., dM) giving a minibatch of\n",
        "      input data.\n",
        "    - params: A list [w1, w2] of PyTorch Tensors giving weights for the network;\n",
        "      w1 has shape (D, H) and w2 has shape (H, C).\n",
        "    \n",
        "    Returns:\n",
        "    - scores: A PyTorch Tensor of shape (N, C) giving classification scores for\n",
        "      the input data x.\n",
        "    \"\"\"\n",
        "\n",
        "    \"\"\"\n",
        "    NN is fully connected -> ReLU -> fully connected layer, pytorch가 backward는 해줄 것, \n",
        "    \n",
        "    Inputs: \n",
        "    x : tensor (N,d1,...,dM) 의 차원\n",
        "    params: 각 weight 의 shape는 w1이 (D,H), w2이 (H,C)\n",
        "    \n",
        "    Returns:\n",
        "    scores: input data x의 scores 값이 주어질 때 (N,C) 의 tensor shape??\n",
        "    \"\"\"\n",
        "    # first we flatten the image\n",
        "    x = flatten(x)  # shape: [batch_size, C x H x W]\n",
        "    #print(x)\n",
        "    w1, w2 = params\n",
        "    #print(params)\n",
        "    \n",
        "    # Forward pass: compute predicted y using operations on Tensors. Since w1 and\n",
        "    # w2 have requires_grad=True, operations involving these Tensors will cause\n",
        "    # PyTorch to build a computational graph, allowing automatic computation of\n",
        "    # gradients. Since we are no longer implementing the backward pass by hand we\n",
        "    # don't need to keep references to intermediate values.\n",
        "    # you can also use `.clamp(min=0)`, equivalent to F.relu()\n",
        "    x = F.relu(x.mm(w1))\n",
        "    x = x.mm(w2)\n",
        "    return x\n",
        "    \"\"\"\n",
        "    torch의 선형대수학 문법 참고\n",
        "    ref -> https://gaussian37.github.io/dl-pytorch-pytorch-tensor-basic/\n",
        "    dot : 벡터 내적\n",
        "    mv : 행렬과 벡터의 곱\n",
        "    mm : 행렬과 행렬의 곱\n",
        "    matmul : 인수의 종류에 따라서 자동으로 dot, mv, mm을 선택\n",
        "    \"\"\"\n",
        "    \n",
        "# two_layer_fc_test로 위에서 만든 two_layer_fc가 올바른 shape로 나오는지 확인\n",
        "def two_layer_fc_test():\n",
        "    hidden_layer_size = 42\n",
        "    x = torch.zeros((64, 50), dtype=dtype)  # minibatch size 64, feature dimension 50\n",
        "    w1 = torch.zeros((50, hidden_layer_size), dtype=dtype)     # (feature dimension, hidden_layer_size)\n",
        "    w2 = torch.zeros((hidden_layer_size, 10), dtype=dtype)     # (hidden_layer_size, # of classes)\n",
        "    scores = two_layer_fc(x, [w1, w2])\n",
        "    print(scores.size())  # you should see [64, 10]\n",
        "\n",
        "two_layer_fc_test()"
      ],
      "execution_count": 5,
      "outputs": [
        {
          "output_type": "stream",
          "text": [
            "torch.Size([64, 10])\n"
          ],
          "name": "stdout"
        }
      ]
    },
    {
      "cell_type": "markdown",
      "metadata": {
        "id": "phNe_HVREw8p",
        "colab_type": "text"
      },
      "source": [
        "### Barebones PyTorch: Three-Layer ConvNet\n",
        "\n",
        "Here you will complete the implementation of the function `three_layer_convnet`, which will perform the forward pass of a three-layer convolutional network. Like above, we can immediately test our implementation by passing zeros through the network. The network should have the following architecture:\n",
        "\n",
        "1. A convolutional layer (with bias) with `channel_1` filters, each with shape `KW1 x KH1`, and zero-padding of two\n",
        "2. ReLU nonlinearity\n",
        "3. A convolutional layer (with bias) with `channel_2` filters, each with shape `KW2 x KH2`, and zero-padding of one\n",
        "4. ReLU nonlinearity\n",
        "5. Fully-connected layer with bias, producing scores for C classes.\n",
        "\n",
        "Note that we have **no softmax activation** here after our fully-connected layer: this is because PyTorch's cross entropy loss performs a softmax activation for you, and by bundling that step in makes computation more efficient.\n",
        "\n",
        "**HINT**: For convolutions: http://pytorch.org/docs/stable/nn.html#torch.nn.functional.conv2d; pay attention to the shapes of convolutional filters!"
      ]
    },
    {
      "cell_type": "markdown",
      "metadata": {
        "id": "aR_6MVnzS07x",
        "colab_type": "text"
      },
      "source": [
        "## 주어진 조건대로 Tree-Layer ConvNet만들 것\n",
        "1. channel_1 의 filters를 가진 convolutional layer -> 각 shape는 KW1 x KH1 이고 2개의 zero-padding 가질 것\n",
        "2. channel_2 의 filters를 가진 convolutional layer -> 각 shape는 KW2 x KH2 이고 1개의 zero-padding 가질 것\n",
        "3. ReLU 사용, 비선형 nonlinearity\n",
        "4. FC layer with biassms C개의 classes만큼 score 뱉음\n"
      ]
    },
    {
      "cell_type": "code",
      "metadata": {
        "id": "ecSz0ZQKEw8s",
        "colab_type": "code",
        "colab": {}
      },
      "source": [
        "def three_layer_convnet(x, params):\n",
        "    \"\"\"\n",
        "    Performs the forward pass of a three-layer convolutional network with the\n",
        "    architecture defined above.\n",
        "\n",
        "    Inputs:\n",
        "    3 = channel 갯수\n",
        "    - x: A PyTorch Tensor of shape (N, 3, H, W) giving a minibatch of images\n",
        "    - params: A list of PyTorch Tensors giving the weights and biases for the\n",
        "      network; should contain the following:\n",
        "      - conv_w1: PyTorch Tensor of shape (channel_1, 3, KH1, KW1) giving weights\n",
        "        for the first convolutional layer\n",
        "      - conv_b1: PyTorch Tensor of shape (channel_1,) giving biases for the first\n",
        "        convolutional layer\n",
        "      - conv_w2: PyTorch Tensor of shape (channel_2, channel_1, KH2, KW2) giving\n",
        "        weights for the second convolutional layer\n",
        "      - conv_b2: PyTorch Tensor of shape (channel_2,) giving biases for the second\n",
        "        convolutional layer\n",
        "      - fc_w: PyTorch Tensor giving weights for the fully-connected layer. Can you\n",
        "        figure out what the shape should be?\n",
        "      - fc_b: PyTorch Tensor giving biases for the fully-connected layer. Can you\n",
        "        figure out what the shape should be?\n",
        "    \n",
        "    Returns:\n",
        "    - scores: PyTorch Tensor of shape (N, C) giving classification scores for x\n",
        "    \"\"\"\n",
        "    conv_w1, conv_b1, conv_w2, conv_b2, fc_w, fc_b = params\n",
        "    scores = None\n",
        "    ################################################################################\n",
        "    # TODO: Implement the forward pass for the three-layer ConvNet.                #\n",
        "    ################################################################################\n",
        "    # *****START OF YOUR CODE (DO NOT DELETE/MODIFY THIS LINE)*****\n",
        "    \n",
        "    ## 구해야되는 params 순서대로 계산\n",
        "    ## 내장되어 있는 conv2d의 옵션 보고 설정해주면 됨.\n",
        "    conv1 = F.conv2d(x, weight=conv_w1, bias=conv_b1, padding=2)\n",
        "    relu1 = F.relu(conv1)\n",
        "    conv2 = F.conv2d(relu1, weight=conv_w2, bias = conv_b2, padding=1)\n",
        "    relu2 = F.relu(conv2)\n",
        "    relu2_flat = flatten(relu2)\n",
        "    scores = relu2_flat.mm(fc_w) + fc_b\n",
        "\n",
        "    # *****END OF YOUR CODE (DO NOT DELETE/MODIFY THIS LINE)*****\n",
        "    ################################################################################\n",
        "    #                                 END OF YOUR CODE                             #\n",
        "    ################################################################################\n",
        "    return scores"
      ],
      "execution_count": 0,
      "outputs": []
    },
    {
      "cell_type": "markdown",
      "metadata": {
        "id": "TiUtnP2FEw84",
        "colab_type": "text"
      },
      "source": [
        "After defining the forward pass of the ConvNet above, run the following cell to test your implementation.\n",
        "\n",
        "When you run this function, scores should have shape (64, 10)."
      ]
    },
    {
      "cell_type": "code",
      "metadata": {
        "tags": [
          "pdf-ignore-input"
        ],
        "id": "syzt4088Ew87",
        "colab_type": "code",
        "outputId": "5dd82e4c-054d-4842-8d50-597344d2e280",
        "colab": {
          "base_uri": "https://localhost:8080/",
          "height": 36
        }
      },
      "source": [
        "# (64,10) shape 맞게 나오는지 확인\n",
        "\n",
        "def three_layer_convnet_test():\n",
        "    x = torch.zeros((64, 3, 32, 32), dtype=dtype)  # minibatch size 64, image size [3, 32, 32]\n",
        "\n",
        "    conv_w1 = torch.zeros((6, 3, 5, 5), dtype=dtype)  # [out_channel, in_channel, kernel_H, kernel_W]\n",
        "    conv_b1 = torch.zeros((6,))  # out_channel\n",
        "    conv_w2 = torch.zeros((9, 6, 3, 3), dtype=dtype)  # [out_channel, in_channel, kernel_H, kernel_W]\n",
        "    conv_b2 = torch.zeros((9,))  # out_channel\n",
        "\n",
        "    # you must calculate the shape of the tensor after two conv layers, before the fully-connected layer\n",
        "    # fc layer전에 tensor의 shape 계산해놓기\n",
        "    fc_w = torch.zeros((9 * 32 * 32, 10))         # bias는 최종에다가 1더하는 듯?? b0 값 처럼\n",
        "    fc_b = torch.zeros(10)\n",
        "\n",
        "    scores = three_layer_convnet(x, [conv_w1, conv_b1, conv_w2, conv_b2, fc_w, fc_b]) # 만든함수에다가 x값과 params넣어봄\n",
        "    print(scores.size())  # you should see [64, 10]\n",
        "three_layer_convnet_test()"
      ],
      "execution_count": 7,
      "outputs": [
        {
          "output_type": "stream",
          "text": [
            "torch.Size([64, 10])\n"
          ],
          "name": "stdout"
        }
      ]
    },
    {
      "cell_type": "markdown",
      "metadata": {
        "id": "UtYn2q_TEw9E",
        "colab_type": "text"
      },
      "source": [
        "### Barebones PyTorch: Initialization\n",
        "Let's write a couple utility methods to initialize the weight matrices for our models.\n",
        "\n",
        "- `random_weight(shape)` initializes a weight tensor with the Kaiming normalization method.\n",
        "- `zero_weight(shape)` initializes a weight tensor with all zeros. Useful for instantiating bias parameters.\n",
        "\n",
        "The `random_weight` function uses the Kaiming normal initialization method, described in:\n",
        "\n",
        "He et al, *Delving Deep into Rectifiers: Surpassing Human-Level Performance on ImageNet Classification*, ICCV 2015, https://arxiv.org/abs/1502.01852"
      ]
    },
    {
      "cell_type": "markdown",
      "metadata": {
        "id": "lxJqLCV8Z1vz",
        "colab_type": "text"
      },
      "source": [
        "##-> initialization 부분\n",
        "1. random_weiht(shape) Kaiming 랜덥 방법으로 weight initialization함\n",
        "2. zero_weight(shape) 모두 0으로 weight tensor를 초기화시킴\n"
      ]
    },
    {
      "cell_type": "code",
      "metadata": {
        "tags": [
          "pdf-ignore-input"
        ],
        "id": "3NnfkeY0Ew9F",
        "colab_type": "code",
        "outputId": "090deec2-483e-4e01-fee8-b2021e86cc43",
        "colab": {
          "base_uri": "https://localhost:8080/",
          "height": 92
        }
      },
      "source": [
        "def random_weight(shape):\n",
        "    \"\"\"\n",
        "    Create random Tensors for weights; setting requires_grad=True means that we\n",
        "    want to compute gradients for these Tensors during the backward pass.\n",
        "    We use Kaiming normalization: sqrt(2 / fan_in)\n",
        "\n",
        "    weights 위해서 random tensor만들 것, 설정은 equires_grad=True 이다. \n",
        "    이렇게 하면 이 tensor에 대해서 torch가 역전파 과정중에 gradient를 계산해줌\n",
        "    Kaiming normalization 의 공식이  sqrt(2 / fan_in)\n",
        "        \"\"\"\n",
        "    if len(shape) == 2:  # FC weight\n",
        "        fan_in = shape[0]\n",
        "    else:\n",
        "        fan_in = np.prod(shape[1:]) # conv weight [out_channel, in_channel, kH, kW]\n",
        "    # randn is standard normal distribution generator. \n",
        "    # np.prod -> 원소 배열간의 곱, weight의 params 간 모두 곱해줌\n",
        "    # w -> normalize 된 weight\n",
        "    w = torch.randn(shape, device=device, dtype=dtype) * np.sqrt(2. / fan_in)\n",
        "    w.requires_grad = True\n",
        "    return w\n",
        "\n",
        "def zero_weight(shape):\n",
        "    return torch.zeros(shape, device=device, dtype=dtype, requires_grad=True)\n",
        "\n",
        "# create a weight of shape [3 x 5]\n",
        "# you should see the type `torch.cuda.FloatTensor` if you use GPU. \n",
        "# Otherwise it should be `torch.FloatTensor`\n",
        "random_weight((3, 5))     # 3*5의 random_weight로 초기화된 weight 값들이 나옴"
      ],
      "execution_count": 8,
      "outputs": [
        {
          "output_type": "execute_result",
          "data": {
            "text/plain": [
              "tensor([[-0.9429, -0.8897, -0.8568, -2.2148,  0.0085],\n",
              "        [ 0.3651,  0.2276, -0.5737, -0.3021, -0.5007],\n",
              "        [ 0.8428, -0.3502, -0.6157, -0.9583, -0.3714]], device='cuda:0',\n",
              "       requires_grad=True)"
            ]
          },
          "metadata": {
            "tags": []
          },
          "execution_count": 8
        }
      ]
    },
    {
      "cell_type": "markdown",
      "metadata": {
        "id": "pePVkdHmEw9N",
        "colab_type": "text"
      },
      "source": [
        "### Barebones PyTorch: Check Accuracy\n",
        "When training the model we will use the following function to check the accuracy of our model on the training or validation sets.\n",
        "\n",
        "When checking accuracy we don't need to compute any gradients; as a result we don't need PyTorch to build a computational graph for us when we compute scores. To prevent a graph from being built we scope our computation under a `torch.no_grad()` context manager."
      ]
    },
    {
      "cell_type": "markdown",
      "metadata": {
        "id": "hYFs5HxEcXrL",
        "colab_type": "text"
      },
      "source": [
        "## Check Accuracy\n",
        "1. torch가 gradient는 계산해주니깐 function사용시 train이나 validattio set의 accuracy만 체크해보자\n",
        "2. torch.no_grad() 에서 계산할 것\n",
        "3. return값이 noting, 단지 accuracy 계산해주는 함수 만들어 놓는 것."
      ]
    },
    {
      "cell_type": "code",
      "metadata": {
        "tags": [
          "pdf-ignore-input"
        ],
        "id": "BUfm8JjGEw9P",
        "colab_type": "code",
        "colab": {}
      },
      "source": [
        "def check_accuracy_part2(loader, model_fn, params):\n",
        "    \"\"\"\n",
        "    Check the accuracy of a classification model.\n",
        "    \n",
        "    Inputs:\n",
        "    - loader: A DataLoader for the data split we want to check\n",
        "    - model_fn: A function that performs the forward pass of the model,\n",
        "      with the signature scores = model_fn(x, params)\n",
        "      model의 forward pass 순전파가 진행되는 함수\n",
        "    - params: List of PyTorch Tensors giving parameters of the model\n",
        "    \n",
        "    Returns: Nothing, but prints the accuracy of the model\n",
        "    \"\"\"\n",
        "    split = 'val' if loader.dataset.train else 'test'\n",
        "    print('Checking accuracy on the %s set' % split)\n",
        "    num_correct, num_samples = 0, 0\n",
        "    with torch.no_grad():\n",
        "        for x, y in loader:\n",
        "            x = x.to(device=device, dtype=dtype)  # move to device, e.g. GPU\n",
        "            y = y.to(device=device, dtype=torch.int64)\n",
        "            scores = model_fn(x, params)\n",
        "            _, preds = scores.max(1)\n",
        "            num_correct += (preds == y).sum()\n",
        "            num_samples += preds.size(0)\n",
        "        acc = float(num_correct) / num_samples\n",
        "        print('Got %d / %d correct (%.2f%%)' % (num_correct, num_samples, 100 * acc))"
      ],
      "execution_count": 0,
      "outputs": []
    },
    {
      "cell_type": "markdown",
      "metadata": {
        "id": "XKgS9Ml5Ew9Y",
        "colab_type": "text"
      },
      "source": [
        "### BareBones PyTorch: Training Loop\n",
        "We can now set up a basic training loop to train our network. We will train the model using stochastic gradient descent without momentum. We will use `torch.functional.cross_entropy` to compute the loss; you can [read about it here](http://pytorch.org/docs/stable/nn.html#cross-entropy).\n",
        "\n",
        "The training loop takes as input the neural network function, a list of initialized parameters (`[w1, w2]` in our example), and learning rate."
      ]
    },
    {
      "cell_type": "markdown",
      "metadata": {
        "id": "MeZmCKu3eXg7",
        "colab_type": "text"
      },
      "source": [
        "## Training Loop \n",
        "1. 기본적인 train을 시켜볼 것\n",
        "2. momentum 이 없는 SGD 사용하고 torch.functional.cross_entropy 를 Loss 구하는 함수로 사용\n",
        "3. training loop는 input nn function, 초기화된 파라미터 리스트, LR learning rate 값을 취함.\n",
        "4. train 하면서 weight 업데이트하고 loss값 뱉어내는 함수 만들어줌"
      ]
    },
    {
      "cell_type": "code",
      "metadata": {
        "tags": [
          "pdf-ignore-input"
        ],
        "id": "pI-zvwcAEw9a",
        "colab_type": "code",
        "colab": {}
      },
      "source": [
        "def train_part2(model_fn, params, learning_rate):\n",
        "    \"\"\"\n",
        "    Train a model on CIFAR-10.\n",
        "    \n",
        "    Inputs:\n",
        "    - model_fn: A Python function that performs the forward pass of the model.\n",
        "      It should have the signature scores = model_fn(x, params) where x is a\n",
        "      PyTorch Tensor of image data, params is a list of PyTorch Tensors giving\n",
        "      model weights, and scores is a PyTorch Tensor of shape (N, C) giving\n",
        "      scores for the elements in x.\n",
        "    - params: List of PyTorch Tensors giving weights for the model\n",
        "    - learning_rate: Python scalar giving the learning rate to use for SGD\n",
        "    \n",
        "    Returns: Nothing\n",
        "    \"\"\"\n",
        "    for t, (x, y) in enumerate(loader_train):\n",
        "        # Move the data to the proper device (GPU or CPU)\n",
        "        x = x.to(device=device, dtype=dtype)\n",
        "        y = y.to(device=device, dtype=torch.long)\n",
        "\n",
        "        # Forward pass: compute scores and loss\n",
        "        scores = model_fn(x, params)\n",
        "        loss = F.cross_entropy(scores, y)\n",
        "\n",
        "        # Backward pass: PyTorch figures out which Tensors in the computational\n",
        "        # graph has requires_grad=True and uses backpropagation to compute the\n",
        "        # gradient of the loss with respect to these Tensors, and stores the\n",
        "        # gradients in the .grad attribute of each Tensor.\n",
        "        loss.backward()\n",
        "\n",
        "        # Update parameters. We don't want to backpropagate through the\n",
        "        # parameter updates, so we scope the updates under a torch.no_grad()\n",
        "        # context manager to prevent a computational graph from being built.\n",
        "        with torch.no_grad():\n",
        "            for w in params:\n",
        "                w -= learning_rate * w.grad\n",
        "\n",
        "                # Manually zero the gradients after running the backward pass\n",
        "                w.grad.zero_()\n",
        "\n",
        "        if t % print_every == 0:\n",
        "            print('Iteration %d, loss = %.4f' % (t, loss.item()))\n",
        "            check_accuracy_part2(loader_val, model_fn, params)\n",
        "            print()"
      ],
      "execution_count": 0,
      "outputs": []
    },
    {
      "cell_type": "markdown",
      "metadata": {
        "id": "ujc-B9Z0Ew9i",
        "colab_type": "text"
      },
      "source": [
        "### BareBones PyTorch: Train a Two-Layer Network\n",
        "Now we are ready to run the training loop. We need to explicitly allocate tensors for the fully connected weights, `w1` and `w2`. \n",
        "\n",
        "Each minibatch of CIFAR has 64 examples, so the tensor shape is `[64, 3, 32, 32]`. \n",
        "\n",
        "After flattening, `x` shape should be `[64, 3 * 32 * 32]`. This will be the size of the first dimension of `w1`. \n",
        "The second dimension of `w1` is the hidden layer size, which will also be the first dimension of `w2`. \n",
        "\n",
        "Finally, the output of the network is a 10-dimensional vector that represents the probability distribution over 10 classes. \n",
        "\n",
        "You don't need to tune any hyperparameters but you should see accuracies above 40% after training for one epoch."
      ]
    },
    {
      "cell_type": "markdown",
      "metadata": {
        "id": "T7-SWjTFgNI7",
        "colab_type": "text"
      },
      "source": [
        "## Train a Two-Layer Network\n",
        "1. cifa 의 minibatch가 tensor shape [63,3,32,32] 이다.\n",
        "2. 따라서 flatten 이후에는 [64, 3 * 32 * 32] 이 되어야 한다.\n",
        "3. 위에 shape는 w1의 첫 번째 차원의 크기, w1의 두 번째 차원은 hidden_layer의 차원이며, w2의 첫 번째 차원\n",
        "4. 마지막 output은 10 차원 vector (10개 classes)\n",
        "5. 하이퍼파라미터 튜닝 필요없지만 한 에폭당 train 후의 accuracies가 0.4 넘어야함"
      ]
    },
    {
      "cell_type": "code",
      "metadata": {
        "id": "3hoxaPpYEw9k",
        "colab_type": "code",
        "outputId": "7857e421-e081-48c0-f470-fbc8c2ce6fcc",
        "colab": {
          "base_uri": "https://localhost:8080/",
          "height": 615
        }
      },
      "source": [
        "hidden_layer_size = 4000\n",
        "learning_rate = 1e-2\n",
        "\n",
        "w1 = random_weight((3 * 32 * 32, hidden_layer_size))\n",
        "w2 = random_weight((hidden_layer_size, 10))\n",
        "\n",
        "train_part2(two_layer_fc, [w1, w2], learning_rate)"
      ],
      "execution_count": 11,
      "outputs": [
        {
          "output_type": "stream",
          "text": [
            "Iteration 0, loss = 3.7760\n",
            "Checking accuracy on the val set\n",
            "Got 115 / 1000 correct (11.50%)\n",
            "\n",
            "Iteration 100, loss = 2.0014\n",
            "Checking accuracy on the val set\n",
            "Got 350 / 1000 correct (35.00%)\n",
            "\n",
            "Iteration 200, loss = 1.5832\n",
            "Checking accuracy on the val set\n",
            "Got 358 / 1000 correct (35.80%)\n",
            "\n",
            "Iteration 300, loss = 1.6596\n",
            "Checking accuracy on the val set\n",
            "Got 368 / 1000 correct (36.80%)\n",
            "\n",
            "Iteration 400, loss = 2.3258\n",
            "Checking accuracy on the val set\n",
            "Got 366 / 1000 correct (36.60%)\n",
            "\n",
            "Iteration 500, loss = 1.7199\n",
            "Checking accuracy on the val set\n",
            "Got 438 / 1000 correct (43.80%)\n",
            "\n",
            "Iteration 600, loss = 1.7914\n",
            "Checking accuracy on the val set\n",
            "Got 402 / 1000 correct (40.20%)\n",
            "\n",
            "Iteration 700, loss = 1.8499\n",
            "Checking accuracy on the val set\n",
            "Got 448 / 1000 correct (44.80%)\n",
            "\n"
          ],
          "name": "stdout"
        }
      ]
    },
    {
      "cell_type": "markdown",
      "metadata": {
        "id": "jARWREkfEw90",
        "colab_type": "text"
      },
      "source": [
        "### BareBones PyTorch: Training a ConvNet\n",
        "\n",
        "In the below you should use the functions defined above to train a three-layer convolutional network on CIFAR. The network should have the following architecture:\n",
        "\n",
        "1. Convolutional layer (with bias) with 32 5x5 filters, with zero-padding of 2\n",
        "2. ReLU\n",
        "3. Convolutional layer (with bias) with 16 3x3 filters, with zero-padding of 1\n",
        "4. ReLU\n",
        "5. Fully-connected layer (with bias) to compute scores for 10 classes\n",
        "\n",
        "You should initialize your weight matrices using the `random_weight` function defined above, and you should initialize your bias vectors using the `zero_weight` function above.\n",
        "\n",
        "You don't need to tune any hyperparameters, but if everything works correctly you should achieve an accuracy above 42% after one epoch."
      ]
    },
    {
      "cell_type": "markdown",
      "metadata": {
        "id": "E1x7tH0Khs2c",
        "colab_type": "text"
      },
      "source": [
        "## 위에서 만들었던 conv layer 써보기 : 0.42 이상의 acc 가질 것"
      ]
    },
    {
      "cell_type": "code",
      "metadata": {
        "id": "5QaQ_6iKEw95",
        "colab_type": "code",
        "outputId": "b41a2138-338a-4e7a-d5b3-6c2348161465",
        "colab": {
          "base_uri": "https://localhost:8080/",
          "height": 615
        }
      },
      "source": [
        "learning_rate = 3e-3\n",
        "\n",
        "channel_1 = 32\n",
        "channel_2 = 16\n",
        "\n",
        "conv_w1 = None\n",
        "conv_b1 = None\n",
        "conv_w2 = None\n",
        "conv_b2 = None\n",
        "fc_w = None\n",
        "fc_b = None\n",
        "\n",
        "################################################################################\n",
        "# TODO: Initialize the parameters of a three-layer ConvNet.                    #\n",
        "################################################################################\n",
        "# *****START OF YOUR CODE (DO NOT DELETE/MODIFY THIS LINE)*****\n",
        "\n",
        "conv_w1 = random_weight((channel_1, 3, 5, 5)) ## ?\n",
        "conv_b1 = zero_weight((channel_1,))\n",
        "conv_w2 = random_weight((channel_2, 32, 3, 3))\n",
        "conv_b2 = zero_weight((channel_2,))\n",
        "fc_w = random_weight((channel_2*32*32, 10))\n",
        "fc_b = zero_weight((10,))\n",
        "\n",
        "# *****END OF YOUR CODE (DO NOT DELETE/MODIFY THIS LINE)*****\n",
        "################################################################################\n",
        "#                                 END OF YOUR CODE                             #\n",
        "################################################################################\n",
        "\n",
        "params = [conv_w1, conv_b1, conv_w2, conv_b2, fc_w, fc_b]\n",
        "train_part2(three_layer_convnet, params, learning_rate)"
      ],
      "execution_count": 12,
      "outputs": [
        {
          "output_type": "stream",
          "text": [
            "Iteration 0, loss = 4.6542\n",
            "Checking accuracy on the val set\n",
            "Got 113 / 1000 correct (11.30%)\n",
            "\n",
            "Iteration 100, loss = 1.9979\n",
            "Checking accuracy on the val set\n",
            "Got 322 / 1000 correct (32.20%)\n",
            "\n",
            "Iteration 200, loss = 1.9168\n",
            "Checking accuracy on the val set\n",
            "Got 400 / 1000 correct (40.00%)\n",
            "\n",
            "Iteration 300, loss = 1.7681\n",
            "Checking accuracy on the val set\n",
            "Got 427 / 1000 correct (42.70%)\n",
            "\n",
            "Iteration 400, loss = 1.8402\n",
            "Checking accuracy on the val set\n",
            "Got 420 / 1000 correct (42.00%)\n",
            "\n",
            "Iteration 500, loss = 1.5406\n",
            "Checking accuracy on the val set\n",
            "Got 437 / 1000 correct (43.70%)\n",
            "\n",
            "Iteration 600, loss = 1.5322\n",
            "Checking accuracy on the val set\n",
            "Got 461 / 1000 correct (46.10%)\n",
            "\n",
            "Iteration 700, loss = 1.4760\n",
            "Checking accuracy on the val set\n",
            "Got 471 / 1000 correct (47.10%)\n",
            "\n"
          ],
          "name": "stdout"
        }
      ]
    },
    {
      "cell_type": "markdown",
      "metadata": {
        "id": "HDuk7jqVEw-H",
        "colab_type": "text"
      },
      "source": [
        "# Part III. PyTorch Module API\n",
        "\n",
        "Barebone PyTorch requires that we track all the parameter tensors by hand. This is fine for small networks with a few tensors, but it would be extremely inconvenient and error-prone to track tens or hundreds of tensors in larger networks.\n",
        "\n",
        "PyTorch provides the `nn.Module` API for you to define arbitrary network architectures, while tracking every learnable parameters for you. In Part II, we implemented SGD ourselves. PyTorch also provides the `torch.optim` package that implements all the common optimizers, such as RMSProp, Adagrad, and Adam. It even supports approximate second-order methods like L-BFGS! You can refer to the [doc](http://pytorch.org/docs/master/optim.html) for the exact specifications of each optimizer.\n",
        "\n",
        "To use the Module API, follow the steps below:\n",
        "\n",
        "1. Subclass `nn.Module`. Give your network class an intuitive name like `TwoLayerFC`. \n",
        "\n",
        "2. In the constructor `__init__()`, define all the layers you need as class attributes. Layer objects like `nn.Linear` and `nn.Conv2d` are themselves `nn.Module` subclasses and contain learnable parameters, so that you don't have to instantiate the raw tensors yourself. `nn.Module` will track these internal parameters for you. Refer to the [doc](http://pytorch.org/docs/master/nn.html) to learn more about the dozens of builtin layers. **Warning**: don't forget to call the `super().__init__()` first!\n",
        "\n",
        "3. In the `forward()` method, define the *connectivity* of your network. You should use the attributes defined in `__init__` as function calls that take tensor as input and output the \"transformed\" tensor. Do *not* create any new layers with learnable parameters in `forward()`! All of them must be declared upfront in `__init__`. \n",
        "\n",
        "After you define your Module subclass, you can instantiate it as an object and call it just like the NN forward function in part II.\n",
        "\n",
        "### Module API: Two-Layer Network\n",
        "Here is a concrete example of a 2-layer fully connected network:"
      ]
    },
    {
      "cell_type": "markdown",
      "metadata": {
        "id": "HhUm_vnFisRf",
        "colab_type": "text"
      },
      "source": [
        "## ->\n",
        "1. torch 가 제공하는 옵션들로 손으로 계산하지 말자\n",
        "2. nn.Module, torch.option,\n",
        "3. 위의 내용 참고"
      ]
    },
    {
      "cell_type": "code",
      "metadata": {
        "id": "2XEmzYYQEw-I",
        "colab_type": "code",
        "outputId": "d98710b6-efae-47cd-c9ed-786660a415b6",
        "colab": {
          "base_uri": "https://localhost:8080/",
          "height": 36
        }
      },
      "source": [
        "class TwoLayerFC(nn.Module):\n",
        "    def __init__(self, input_size, hidden_size, num_classes):\n",
        "        super().__init__()\n",
        "        # assign layer objects to class attributes\n",
        "        self.fc1 = nn.Linear(input_size, hidden_size)\n",
        "        # nn.init package contains convenient initialization methods\n",
        "        # http://pytorch.org/docs/master/nn.html#torch-nn-init \n",
        "        nn.init.kaiming_normal_(self.fc1.weight)\n",
        "        self.fc2 = nn.Linear(hidden_size, num_classes)\n",
        "        nn.init.kaiming_normal_(self.fc2.weight)\n",
        "    \n",
        "    def forward(self, x):\n",
        "        # forward always defines connectivity\n",
        "        x = flatten(x)\n",
        "        scores = self.fc2(F.relu(self.fc1(x)))\n",
        "        return scores\n",
        "\n",
        "def test_TwoLayerFC():\n",
        "    input_size = 50\n",
        "    x = torch.zeros((64, input_size), dtype=dtype)  # minibatch size 64, feature dimension 50\n",
        "    model = TwoLayerFC(input_size, 42, 10)\n",
        "    scores = model(x)\n",
        "    print(scores.size())  # you should see [64, 10]\n",
        "test_TwoLayerFC()"
      ],
      "execution_count": 13,
      "outputs": [
        {
          "output_type": "stream",
          "text": [
            "torch.Size([64, 10])\n"
          ],
          "name": "stdout"
        }
      ]
    },
    {
      "cell_type": "markdown",
      "metadata": {
        "id": "7PGhO7jgEw-T",
        "colab_type": "text"
      },
      "source": [
        "### Module API: Three-Layer ConvNet\n",
        "It's your turn to implement a 3-layer ConvNet followed by a fully connected layer. The network architecture should be the same as in Part II:\n",
        "\n",
        "1. Convolutional layer with `channel_1` 5x5 filters with zero-padding of 2\n",
        "2. ReLU\n",
        "3. Convolutional layer with `channel_2` 3x3 filters with zero-padding of 1\n",
        "4. ReLU\n",
        "5. Fully-connected layer to `num_classes` classes\n",
        "\n",
        "You should initialize the weight matrices of the model using the Kaiming normal initialization method.\n",
        "\n",
        "**HINT**: http://pytorch.org/docs/stable/nn.html#conv2d\n",
        "\n",
        "After you implement the three-layer ConvNet, the `test_ThreeLayerConvNet` function will run your implementation; it should print `(64, 10)` for the shape of the output scores."
      ]
    },
    {
      "cell_type": "code",
      "metadata": {
        "id": "MFIRV6fgEw-Y",
        "colab_type": "code",
        "outputId": "374be406-3da6-400b-f9a5-1c34455eb68d",
        "colab": {
          "base_uri": "https://localhost:8080/",
          "height": 36
        }
      },
      "source": [
        "class ThreeLayerConvNet(nn.Module):\n",
        "    def __init__(self, in_channel, channel_1, channel_2, num_classes):\n",
        "        super().__init__()\n",
        "        ########################################################################\n",
        "        # TODO: Set up the layers you need for a three-layer ConvNet with the  #\n",
        "        # architecture defined above.                                          #\n",
        "        ########################################################################\n",
        "        # *****START OF YOUR CODE (DO NOT DELETE/MODIFY THIS LINE)*****\n",
        "\n",
        "        self.conv1 = nn.Conv2d(in_channel, channel_1, kernel_size=5, padding=2, bias=True)\n",
        "        nn.init.kaiming_normal_(self.conv1.weight)\n",
        "        nn.init.constant_(self.conv1.bias, 0)\n",
        "        \n",
        "        self.conv2 = nn.Conv2d(channel_1, channel_2, kernel_size=3, padding=1, bias=True)\n",
        "        nn.init.kaiming_normal_(self.conv2.weight)\n",
        "        nn.init.constant_(self.conv2.bias, 0)\n",
        "        \n",
        "        self.fc = nn.Linear(channel_2*32*32, num_classes)\n",
        "        nn.init.kaiming_normal_(self.fc.weight)\n",
        "        nn.init.constant_(self.fc.bias, 0)\n",
        "\n",
        "        # *****END OF YOUR CODE (DO NOT DELETE/MODIFY THIS LINE)*****\n",
        "        ########################################################################\n",
        "        #                          END OF YOUR CODE                            #       \n",
        "        ########################################################################\n",
        "\n",
        "    def forward(self, x):\n",
        "        scores = None\n",
        "        ########################################################################\n",
        "        # TODO: Implement the forward function for a 3-layer ConvNet. you      #\n",
        "        # should use the layers you defined in __init__ and specify the        #\n",
        "        # connectivity of those layers in forward()                            #\n",
        "        ########################################################################\n",
        "        # *****START OF YOUR CODE (DO NOT DELETE/MODIFY THIS LINE)*****\n",
        "\n",
        "        relu1 = F.relu(self.conv1(x))\n",
        "        relu2 = F.relu(self.conv2(relu1))\n",
        "        scores = self.fc(flatten(relu2))\n",
        "\n",
        "        # *****END OF YOUR CODE (DO NOT DELETE/MODIFY THIS LINE)*****\n",
        "        ########################################################################\n",
        "        #                             END OF YOUR CODE                         #\n",
        "        ########################################################################\n",
        "        return scores\n",
        "\n",
        "\n",
        "def test_ThreeLayerConvNet():\n",
        "    x = torch.zeros((64, 3, 32, 32), dtype=dtype)  # minibatch size 64, image size [3, 32, 32]\n",
        "    model = ThreeLayerConvNet(in_channel=3, channel_1=12, channel_2=8, num_classes=10)\n",
        "    scores = model(x)\n",
        "    print(scores.size())  # you should see [64, 10]\n",
        "test_ThreeLayerConvNet()"
      ],
      "execution_count": 14,
      "outputs": [
        {
          "output_type": "stream",
          "text": [
            "torch.Size([64, 10])\n"
          ],
          "name": "stdout"
        }
      ]
    },
    {
      "cell_type": "markdown",
      "metadata": {
        "id": "wgtZm_S_Ew-h",
        "colab_type": "text"
      },
      "source": [
        "### Module API: Check Accuracy\n",
        "Given the validation or test set, we can check the classification accuracy of a neural network. \n",
        "\n",
        "This version is slightly different from the one in part II. You don't manually pass in the parameters anymore."
      ]
    },
    {
      "cell_type": "code",
      "metadata": {
        "id": "OCpxkiGDEw-i",
        "colab_type": "code",
        "colab": {}
      },
      "source": [
        "def check_accuracy_part34(loader, model):\n",
        "    if loader.dataset.train:\n",
        "        print('Checking accuracy on validation set')\n",
        "    else:\n",
        "        print('Checking accuracy on test set')   \n",
        "    num_correct = 0\n",
        "    num_samples = 0\n",
        "    model.eval()  # set model to evaluation mode\n",
        "    with torch.no_grad():\n",
        "        for x, y in loader:\n",
        "            x = x.to(device=device, dtype=dtype)  # move to device, e.g. GPU\n",
        "            y = y.to(device=device, dtype=torch.long)\n",
        "            scores = model(x)\n",
        "            _, preds = scores.max(1)\n",
        "            num_correct += (preds == y).sum()\n",
        "            num_samples += preds.size(0)\n",
        "        acc = float(num_correct) / num_samples\n",
        "        print('Got %d / %d correct (%.2f)' % (num_correct, num_samples, 100 * acc))"
      ],
      "execution_count": 0,
      "outputs": []
    },
    {
      "cell_type": "markdown",
      "metadata": {
        "id": "OMXwkRLJEw-v",
        "colab_type": "text"
      },
      "source": [
        "### Module API: Training Loop\n",
        "We also use a slightly different training loop. Rather than updating the values of the weights ourselves, we use an Optimizer object from the `torch.optim` package, which abstract the notion of an optimization algorithm and provides implementations of most of the algorithms commonly used to optimize neural networks."
      ]
    },
    {
      "cell_type": "markdown",
      "metadata": {
        "id": "8uTeoxpW9wcx",
        "colab_type": "text"
      },
      "source": [
        "## train_part34() -> model, optimizerm epochs 넣고 train시키는 부분"
      ]
    },
    {
      "cell_type": "code",
      "metadata": {
        "id": "YYRLKwmYEw-x",
        "colab_type": "code",
        "colab": {}
      },
      "source": [
        "def train_part34(model, optimizer, epochs=1):\n",
        "    \"\"\"\n",
        "    Train a model on CIFAR-10 using the PyTorch Module API.\n",
        "    \n",
        "    Inputs:\n",
        "    - model: A PyTorch Module giving the model to train.\n",
        "    - optimizer: An Optimizer object we will use to train the model\n",
        "    - epochs: (Optional) A Python integer giving the number of epochs to train for\n",
        "    \n",
        "    Returns: Nothing, but prints model accuracies during training.\n",
        "    \"\"\"\n",
        "    model = model.to(device=device)  # move the model parameters to CPU/GPU\n",
        "    for e in range(epochs):\n",
        "        for t, (x, y) in enumerate(loader_train):\n",
        "            model.train()  # put model to training mode\n",
        "            x = x.to(device=device, dtype=dtype)  # move to device, e.g. GPU\n",
        "            y = y.to(device=device, dtype=torch.long)\n",
        "\n",
        "            scores = model(x)\n",
        "            loss = F.cross_entropy(scores, y)\n",
        "\n",
        "            # Zero out all of the gradients for the variables which the optimizer\n",
        "            # will update.\n",
        "            optimizer.zero_grad()\n",
        "\n",
        "            # This is the backwards pass: compute the gradient of the loss with\n",
        "            # respect to each  parameter of the model.\n",
        "            loss.backward()\n",
        "\n",
        "            # Actually update the parameters of the model using the gradients\n",
        "            # computed by the backwards pass.\n",
        "            optimizer.step()\n",
        "\n",
        "            if t % print_every == 0:\n",
        "                print('Iteration %d, loss = %.4f' % (t, loss.item()))\n",
        "                check_accuracy_part34(loader_val, model)\n",
        "                print()"
      ],
      "execution_count": 0,
      "outputs": []
    },
    {
      "cell_type": "markdown",
      "metadata": {
        "id": "JuJM4F0JEw-7",
        "colab_type": "text"
      },
      "source": [
        "### Module API: Train a Two-Layer Network\n",
        "Now we are ready to run the training loop. In contrast to part II, we don't explicitly allocate parameter tensors anymore.\n",
        "\n",
        "Simply pass the input size, hidden layer size, and number of classes (i.e. output size) to the constructor of `TwoLayerFC`. \n",
        "\n",
        "You also need to define an optimizer that tracks all the learnable parameters inside `TwoLayerFC`.\n",
        "\n",
        "You don't need to tune any hyperparameters, but you should see model accuracies above 40% after training for one epoch."
      ]
    },
    {
      "cell_type": "code",
      "metadata": {
        "id": "_PMA_rF6Ew-9",
        "colab_type": "code",
        "colab": {
          "base_uri": "https://localhost:8080/",
          "height": 615
        },
        "outputId": "326a7436-0bd1-43ba-d510-c01887242433"
      },
      "source": [
        "hidden_layer_size = 4000\n",
        "learning_rate = 1e-2\n",
        "model = TwoLayerFC(3 * 32 * 32, hidden_layer_size, 10)\n",
        "optimizer = optim.SGD(model.parameters(), lr=learning_rate)\n",
        "\n",
        "train_part34(model, optimizer)"
      ],
      "execution_count": 20,
      "outputs": [
        {
          "output_type": "stream",
          "text": [
            "Iteration 0, loss = 3.3565\n",
            "Checking accuracy on validation set\n",
            "Got 144 / 1000 correct (14.40)\n",
            "\n",
            "Iteration 100, loss = 2.6888\n",
            "Checking accuracy on validation set\n",
            "Got 394 / 1000 correct (39.40)\n",
            "\n",
            "Iteration 200, loss = 2.8422\n",
            "Checking accuracy on validation set\n",
            "Got 345 / 1000 correct (34.50)\n",
            "\n",
            "Iteration 300, loss = 1.9677\n",
            "Checking accuracy on validation set\n",
            "Got 382 / 1000 correct (38.20)\n",
            "\n",
            "Iteration 400, loss = 1.7784\n",
            "Checking accuracy on validation set\n",
            "Got 425 / 1000 correct (42.50)\n",
            "\n",
            "Iteration 500, loss = 1.6145\n",
            "Checking accuracy on validation set\n",
            "Got 404 / 1000 correct (40.40)\n",
            "\n",
            "Iteration 600, loss = 1.8485\n",
            "Checking accuracy on validation set\n",
            "Got 408 / 1000 correct (40.80)\n",
            "\n",
            "Iteration 700, loss = 1.7108\n",
            "Checking accuracy on validation set\n",
            "Got 450 / 1000 correct (45.00)\n",
            "\n"
          ],
          "name": "stdout"
        }
      ]
    },
    {
      "cell_type": "markdown",
      "metadata": {
        "id": "iZqKDgoVEw_I",
        "colab_type": "text"
      },
      "source": [
        "### Module API: Train a Three-Layer ConvNet\n",
        "You should now use the Module API to train a three-layer ConvNet on CIFAR. This should look very similar to training the two-layer network! You don't need to tune any hyperparameters, but you should achieve above above 45% after training for one epoch.\n",
        "\n",
        "You should train the model using stochastic gradient descent without momentum."
      ]
    },
    {
      "cell_type": "code",
      "metadata": {
        "id": "Go6AYVUOEw_K",
        "colab_type": "code",
        "colab": {
          "base_uri": "https://localhost:8080/",
          "height": 615
        },
        "outputId": "87ab0c49-d31a-4f8a-a068-c85b5f112e86"
      },
      "source": [
        "learning_rate = 3e-3\n",
        "channel_1 = 32\n",
        "channel_2 = 16\n",
        "\n",
        "model = None\n",
        "optimizer = None\n",
        "################################################################################\n",
        "# TODO: Instantiate your ThreeLayerConvNet model and a corresponding optimizer #\n",
        "################################################################################\n",
        "# *****START OF YOUR CODE (DO NOT DELETE/MODIFY THIS LINE)*****\n",
        "\n",
        "model = ThreeLayerConvNet(3, channel_1,channel_2, 10)      \n",
        "# self, in channel, channel1, channel2, num_classes\n",
        "optimizer = optim.SGD(model.parameters(),lr=learning_rate)\n",
        "\n",
        "# *****END OF YOUR CODE (DO NOT DELETE/MODIFY THIS LINE)*****\n",
        "################################################################################\n",
        "#                                 END OF YOUR CODE                             \n",
        "################################################################################\n",
        "\n",
        "train_part34(model, optimizer)"
      ],
      "execution_count": 21,
      "outputs": [
        {
          "output_type": "stream",
          "text": [
            "Iteration 0, loss = 2.9806\n",
            "Checking accuracy on validation set\n",
            "Got 123 / 1000 correct (12.30)\n",
            "\n",
            "Iteration 100, loss = 1.9543\n",
            "Checking accuracy on validation set\n",
            "Got 333 / 1000 correct (33.30)\n",
            "\n",
            "Iteration 200, loss = 1.9831\n",
            "Checking accuracy on validation set\n",
            "Got 394 / 1000 correct (39.40)\n",
            "\n",
            "Iteration 300, loss = 1.6663\n",
            "Checking accuracy on validation set\n",
            "Got 409 / 1000 correct (40.90)\n",
            "\n",
            "Iteration 400, loss = 1.4786\n",
            "Checking accuracy on validation set\n",
            "Got 428 / 1000 correct (42.80)\n",
            "\n",
            "Iteration 500, loss = 1.5368\n",
            "Checking accuracy on validation set\n",
            "Got 431 / 1000 correct (43.10)\n",
            "\n",
            "Iteration 600, loss = 1.9549\n",
            "Checking accuracy on validation set\n",
            "Got 426 / 1000 correct (42.60)\n",
            "\n",
            "Iteration 700, loss = 1.6753\n",
            "Checking accuracy on validation set\n",
            "Got 439 / 1000 correct (43.90)\n",
            "\n"
          ],
          "name": "stdout"
        }
      ]
    },
    {
      "cell_type": "markdown",
      "metadata": {
        "id": "z6EuhySXEw_T",
        "colab_type": "text"
      },
      "source": [
        "# Part IV. PyTorch Sequential API\n",
        "\n",
        "\n",
        "Part III introduced the PyTorch Module API, which allows you to define arbitrary learnable layers and their connectivity. \n",
        "\n",
        "For simple models like a stack of feed forward layers, you still need to go through 3 steps: subclass `nn.Module`, assign layers to class attributes in `__init__`, and call each layer one by one in `forward()`. Is there a more convenient way? \n",
        "\n",
        "Fortunately, PyTorch provides a container Module called `nn.Sequential`, which merges the above steps into one. It is not as flexible as `nn.Module`, because you cannot specify more complex topology than a feed-forward stack, but it's good enough for many use cases.\n",
        "\n",
        "### Sequential API: Two-Layer Network\n",
        "Let's see how to rewrite our two-layer fully connected network example with `nn.Sequential`, and train it using the training loop defined above.\n",
        "\n",
        "Again, you don't need to tune any hyperparameters here, but you shoud achieve above 40% accuracy after one epoch of training."
      ]
    },
    {
      "cell_type": "markdown",
      "metadata": {
        "id": "3ewQjeJc889-",
        "colab_type": "text"
      },
      "source": [
        "## 파이토치의 nn.Sequential 모듈 이용해서 순차적으로 작성하기"
      ]
    },
    {
      "cell_type": "code",
      "metadata": {
        "id": "j_VuYPG1Ew_U",
        "colab_type": "code",
        "colab": {
          "base_uri": "https://localhost:8080/",
          "height": 615
        },
        "outputId": "ed87cb2c-1789-4f81-9ee2-551bfb0cdc0e"
      },
      "source": [
        "# We need to wrap `flatten` function in a module in order to stack it\n",
        "# in nn.Sequential\n",
        "class Flatten(nn.Module):\n",
        "    def forward(self, x):\n",
        "        return flatten(x)\n",
        "\n",
        "# 하이퍼파라미터는 model 위에서 미리 지정\n",
        "hidden_layer_size = 4000\n",
        "learning_rate = 1e-2\n",
        "\n",
        "# nn.Sequential 이용해서 순차적으로 레이어를 쌓아줌 -> 직관적이고 쉬움\n",
        "model = nn.Sequential(\n",
        "    Flatten(),\n",
        "    nn.Linear(3 * 32 * 32, hidden_layer_size),\n",
        "    nn.ReLU(),\n",
        "    nn.Linear(hidden_layer_size, 10),\n",
        ")\n",
        "\n",
        "# you can use Nesterov momentum in optim.SGD\n",
        "# Optimizer지정, Nesterov momentum 사용~\n",
        "optimizer = optim.SGD(model.parameters(), lr=learning_rate,\n",
        "                     momentum=0.9, nesterov=True)\n",
        "\n",
        "train_part34(model, optimizer)"
      ],
      "execution_count": 22,
      "outputs": [
        {
          "output_type": "stream",
          "text": [
            "Iteration 0, loss = 2.3630\n",
            "Checking accuracy on validation set\n",
            "Got 111 / 1000 correct (11.10)\n",
            "\n",
            "Iteration 100, loss = 1.9000\n",
            "Checking accuracy on validation set\n",
            "Got 420 / 1000 correct (42.00)\n",
            "\n",
            "Iteration 200, loss = 1.9959\n",
            "Checking accuracy on validation set\n",
            "Got 419 / 1000 correct (41.90)\n",
            "\n",
            "Iteration 300, loss = 1.6874\n",
            "Checking accuracy on validation set\n",
            "Got 415 / 1000 correct (41.50)\n",
            "\n",
            "Iteration 400, loss = 1.6706\n",
            "Checking accuracy on validation set\n",
            "Got 447 / 1000 correct (44.70)\n",
            "\n",
            "Iteration 500, loss = 1.7022\n",
            "Checking accuracy on validation set\n",
            "Got 422 / 1000 correct (42.20)\n",
            "\n",
            "Iteration 600, loss = 1.7494\n",
            "Checking accuracy on validation set\n",
            "Got 460 / 1000 correct (46.00)\n",
            "\n",
            "Iteration 700, loss = 1.5067\n",
            "Checking accuracy on validation set\n",
            "Got 439 / 1000 correct (43.90)\n",
            "\n"
          ],
          "name": "stdout"
        }
      ]
    },
    {
      "cell_type": "markdown",
      "metadata": {
        "id": "3tsIqBFQEw_f",
        "colab_type": "text"
      },
      "source": [
        "### Sequential API: Three-Layer ConvNet\n",
        "Here you should use `nn.Sequential` to define and train a three-layer ConvNet with the same architecture we used in Part III:\n",
        "\n",
        "1. Convolutional layer (with bias) with 32 5x5 filters, with zero-padding of 2\n",
        "2. ReLU\n",
        "3. Convolutional layer (with bias) with 16 3x3 filters, with zero-padding of 1\n",
        "4. ReLU\n",
        "5. Fully-connected layer (with bias) to compute scores for 10 classes\n",
        "\n",
        "You should initialize your weight matrices using the `random_weight` function defined above, and you should initialize your bias vectors using the `zero_weight` function above.\n",
        "\n",
        "You should optimize your model using stochastic gradient descent with Nesterov momentum 0.9.\n",
        "\n",
        "Again, you don't need to tune any hyperparameters but you should see accuracy above 55% after one epoch of training."
      ]
    },
    {
      "cell_type": "markdown",
      "metadata": {
        "id": "S_LK1XC9-yCC",
        "colab_type": "text"
      },
      "source": [
        "## Three-Layer ConvNet 을 nnlSequential 모듈 이용해서 구성하기\n",
        "- ref github에는 코드 구성 전에 kaiming_normal(shape)와 xavir_normal(shape)정의함"
      ]
    },
    {
      "cell_type": "code",
      "metadata": {
        "id": "kogjQsAPEw_g",
        "colab_type": "code",
        "colab": {
          "base_uri": "https://localhost:8080/",
          "height": 615
        },
        "outputId": "97c5b2f2-3f78-4da8-d221-87e3913990ad"
      },
      "source": [
        "channel_1 = 32\n",
        "channel_2 = 16\n",
        "learning_rate = 1e-2\n",
        "\n",
        "model = None\n",
        "optimizer = None\n",
        "\n",
        "################################################################################\n",
        "# TODO: Rewrite the 2-layer ConvNet with bias from Part III with the           #\n",
        "# Sequential API.                                                              #\n",
        "################################################################################\n",
        "# *****START OF YOUR CODE (DO NOT DELETE/MODIFY THIS LINE)*****\n",
        "\n",
        "# 1. model\n",
        "model = nn.Sequential(\n",
        "    nn.Conv2d(3, channel_1, kernel_size=5, padding=2),\n",
        "    nn.ReLU(),\n",
        "    nn.Conv2d(channel_1, channel_2, kernel_size=3, padding=1),\n",
        "    nn.ReLU(),\n",
        "    Flatten(),\n",
        "    nn.Linear(channel_2*32*32, 10),\n",
        ")\n",
        "\n",
        "# 2. optimizer\n",
        "optimizer = optim.SGD(model.parameters(), lr=learning_rate, \n",
        "                      momentum=0.9,nesterov=True)\n",
        "\n",
        "# 3. init_weights : 그냥 시도\n",
        "def init_weights(m):\n",
        "  if type(m) == nn.Conv2d or type(m) == nn.Linear:\n",
        "    \n",
        "    m.weight.data = torch.nn.init.xavier_normal(m.weight.size())\n",
        "    m.bias.data = zero_weight(m.bias.size())\n",
        "    # m.weight.data = random_weight(m.weight.size())\n",
        "    # m.weight.data = kaiming_normal(m.weight.size())\n",
        "    # torch.nn.init.xavier_normal_(tensor, gain=1.0)\n",
        "\n",
        "\n",
        "# 4. model 에 apply\n",
        "# model.apply(init_weights) -> xavier 정의 안되서 안됨\n",
        "\n",
        "\n",
        "# *****END OF YOUR CODE (DO NOT DELETE/MODIFY THIS LINE)*****\n",
        "################################################################################\n",
        "#                                 END OF YOUR CODE                             \n",
        "################################################################################\n",
        "\n",
        "train_part34(model, optimizer)"
      ],
      "execution_count": 32,
      "outputs": [
        {
          "output_type": "stream",
          "text": [
            "Iteration 0, loss = 2.3099\n",
            "Checking accuracy on validation set\n",
            "Got 120 / 1000 correct (12.00)\n",
            "\n",
            "Iteration 100, loss = 1.5765\n",
            "Checking accuracy on validation set\n",
            "Got 446 / 1000 correct (44.60)\n",
            "\n",
            "Iteration 200, loss = 1.2993\n",
            "Checking accuracy on validation set\n",
            "Got 488 / 1000 correct (48.80)\n",
            "\n",
            "Iteration 300, loss = 1.3403\n",
            "Checking accuracy on validation set\n",
            "Got 516 / 1000 correct (51.60)\n",
            "\n",
            "Iteration 400, loss = 1.4820\n",
            "Checking accuracy on validation set\n",
            "Got 541 / 1000 correct (54.10)\n",
            "\n",
            "Iteration 500, loss = 1.4735\n",
            "Checking accuracy on validation set\n",
            "Got 528 / 1000 correct (52.80)\n",
            "\n",
            "Iteration 600, loss = 1.3136\n",
            "Checking accuracy on validation set\n",
            "Got 555 / 1000 correct (55.50)\n",
            "\n",
            "Iteration 700, loss = 1.1038\n",
            "Checking accuracy on validation set\n",
            "Got 562 / 1000 correct (56.20)\n",
            "\n"
          ],
          "name": "stdout"
        }
      ]
    },
    {
      "cell_type": "markdown",
      "metadata": {
        "id": "8W6eKRzxEw_t",
        "colab_type": "text"
      },
      "source": [
        "# Part V. CIFAR-10 open-ended challenge\n",
        "\n",
        "In this section, you can experiment with whatever ConvNet architecture you'd like on CIFAR-10. \n",
        "\n",
        "Now it's your job to experiment with architectures, hyperparameters, loss functions, and optimizers to train a model that achieves **at least 70%** accuracy on the CIFAR-10 **validation** set within 10 epochs. You can use the check_accuracy and train functions from above. You can use either `nn.Module` or `nn.Sequential` API. \n",
        "\n",
        "Describe what you did at the end of this notebook.\n",
        "\n",
        "Here are the official API documentation for each component. One note: what we call in the class \"spatial batch norm\" is called \"BatchNorm2D\" in PyTorch.\n",
        "\n",
        "* Layers in torch.nn package: http://pytorch.org/docs/stable/nn.html\n",
        "* Activations: http://pytorch.org/docs/stable/nn.html#non-linear-activations\n",
        "* Loss functions: http://pytorch.org/docs/stable/nn.html#loss-functions\n",
        "* Optimizers: http://pytorch.org/docs/stable/optim.html\n",
        "\n",
        "\n",
        "### Things you might try:\n",
        "- **Filter size**: Above we used 5x5; would smaller filters be more efficient?\n",
        "- **Number of filters**: Above we used 32 filters. Do more or fewer do better?\n",
        "- **Pooling vs Strided Convolution**: Do you use max pooling or just stride convolutions?\n",
        "- **Batch normalization**: Try adding spatial batch normalization after convolution layers and vanilla batch normalization after affine layers. Do your networks train faster?\n",
        "- **Network architecture**: The network above has two layers of trainable parameters. Can you do better with a deep network? Good architectures to try include:\n",
        "    - [conv-relu-pool]xN -> [affine]xM -> [softmax or SVM]\n",
        "    - [conv-relu-conv-relu-pool]xN -> [affine]xM -> [softmax or SVM]\n",
        "    - [batchnorm-relu-conv]xN -> [affine]xM -> [softmax or SVM]\n",
        "- **Global Average Pooling**: Instead of flattening and then having multiple affine layers, perform convolutions until your image gets small (7x7 or so) and then perform an average pooling operation to get to a 1x1 image picture (1, 1 , Filter#), which is then reshaped into a (Filter#) vector. This is used in [Google's Inception Network](https://arxiv.org/abs/1512.00567) (See Table 1 for their architecture).\n",
        "- **Regularization**: Add l2 weight regularization, or perhaps use Dropout.\n",
        "\n",
        "### Tips for training\n",
        "For each network architecture that you try, you should tune the learning rate and other hyperparameters. When doing this there are a couple important things to keep in mind:\n",
        "\n",
        "- If the parameters are working well, you should see improvement within a few hundred iterations\n",
        "- Remember the coarse-to-fine approach for hyperparameter tuning: start by testing a large range of hyperparameters for just a few training iterations to find the combinations of parameters that are working at all.\n",
        "- Once you have found some sets of parameters that seem to work, search more finely around these parameters. You may need to train for more epochs.\n",
        "- You should use the validation set for hyperparameter search, and save your test set for evaluating your architecture on the best parameters as selected by the validation set.\n",
        "\n",
        "### Going above and beyond\n",
        "If you are feeling adventurous there are many other features you can implement to try and improve your performance. You are **not required** to implement any of these, but don't miss the fun if you have time!\n",
        "\n",
        "- Alternative optimizers: you can try Adam, Adagrad, RMSprop, etc.\n",
        "- Alternative activation functions such as leaky ReLU, parametric ReLU, ELU, or MaxOut.\n",
        "- Model ensembles\n",
        "- Data augmentation\n",
        "- New Architectures\n",
        "  - [ResNets](https://arxiv.org/abs/1512.03385) where the input from the previous layer is added to the output.\n",
        "  - [DenseNets](https://arxiv.org/abs/1608.06993) where inputs into previous layers are concatenated together.\n",
        "  - [This blog has an in-depth overview](https://chatbotslife.com/resnets-highwaynets-and-densenets-oh-my-9bb15918ee32)\n",
        "\n",
        "### Have fun and happy training! "
      ]
    },
    {
      "cell_type": "markdown",
      "metadata": {
        "id": "CXYr8RPQDPfr",
        "colab_type": "text"
      },
      "source": [
        "# CIFAR-10 data 에 적용"
      ]
    },
    {
      "cell_type": "code",
      "metadata": {
        "id": "OysCr9PZEw_u",
        "colab_type": "code",
        "colab": {
          "base_uri": "https://localhost:8080/",
          "height": 764
        },
        "outputId": "7c9f495a-0497-4f0c-9bfc-5d9acf120ac5"
      },
      "source": [
        "################################################################################\n",
        "# TODO:                                                                        #         \n",
        "# Experiment with any architectures, optimizers, and hyperparameters.          #\n",
        "# Achieve AT LEAST 70% accuracy on the *validation set* within 10 epochs.      #\n",
        "#                                                                              #\n",
        "# Note that you can use the check_accuracy function to evaluate on either      #\n",
        "# the test set or the validation set, by passing either loader_test or         #\n",
        "# loader_val as the second argument to check_accuracy. You should not touch    #\n",
        "# the test set until you have finished your architecture and  hyperparameter   #\n",
        "# tuning, and only run the test set once at the end to report a final value.   #\n",
        "################################################################################\n",
        "model = None\n",
        "optimizer = None\n",
        "\n",
        "# *****START OF YOUR CODE (DO NOT DELETE/MODIFY THIS LINE)*****\n",
        "\n",
        "layer1 = nn.Sequential(\n",
        "    nn.Conv2d(3, 16, kernel_size=5, padding=2),\n",
        "    nn.BatchNorm2d(16),\n",
        "    nn.ReLU(),\n",
        "    nn.MaxPool2d(2)\n",
        ")\n",
        "\n",
        "layer2 = nn.Sequential(\n",
        "    nn.Conv2d(16, 32, kernel_size=3, padding=1),\n",
        "    nn.BatchNorm2d(32),\n",
        "    nn.ReLU(),\n",
        "    nn.MaxPool2d(2)\n",
        ")\n",
        "\n",
        "layer3 = nn.Sequential(\n",
        "    nn.Conv2d(32, 64, kernel_size=3, padding=1),\n",
        "    nn.BatchNorm2d(64),\n",
        "    nn.ReLU(),\n",
        "    nn.MaxPool2d(2)\n",
        ")\n",
        "\n",
        "fc = nn.Linear(64*4*4, 10)\n",
        "\n",
        "model = nn.Sequential(\n",
        "    layer1,\n",
        "    layer2,\n",
        "    layer3,\n",
        "    Flatten(),\n",
        "    fc\n",
        ")\n",
        "\n",
        "learning_rate = 1e-3\n",
        "\n",
        "optimizer = optim.Adam(model.parameters(), lr=learning_rate)\n",
        "\n",
        "# Print training status every epoch: set print_every to a large number\n",
        "print_every = 10000\n",
        "\n",
        "# *****END OF YOUR CODE (DO NOT DELETE/MODIFY THIS LINE)*****\n",
        "################################################################################\n",
        "#                                 END OF YOUR CODE                             \n",
        "################################################################################\n",
        "\n",
        "# You should get at least 70% accuracy\n",
        "train_part34(model, optimizer, epochs=10)"
      ],
      "execution_count": 39,
      "outputs": [
        {
          "output_type": "stream",
          "text": [
            "Iteration 0, loss = 2.5244\n",
            "Checking accuracy on validation set\n",
            "Got 125 / 1000 correct (12.50)\n",
            "\n",
            "Iteration 0, loss = 1.0430\n",
            "Checking accuracy on validation set\n",
            "Got 595 / 1000 correct (59.50)\n",
            "\n",
            "Iteration 0, loss = 0.8820\n",
            "Checking accuracy on validation set\n",
            "Got 674 / 1000 correct (67.40)\n",
            "\n",
            "Iteration 0, loss = 0.7809\n",
            "Checking accuracy on validation set\n",
            "Got 687 / 1000 correct (68.70)\n",
            "\n",
            "Iteration 0, loss = 0.6560\n",
            "Checking accuracy on validation set\n",
            "Got 680 / 1000 correct (68.00)\n",
            "\n",
            "Iteration 0, loss = 0.6037\n",
            "Checking accuracy on validation set\n",
            "Got 731 / 1000 correct (73.10)\n",
            "\n",
            "Iteration 0, loss = 0.3745\n",
            "Checking accuracy on validation set\n",
            "Got 733 / 1000 correct (73.30)\n",
            "\n",
            "Iteration 0, loss = 0.5959\n",
            "Checking accuracy on validation set\n",
            "Got 736 / 1000 correct (73.60)\n",
            "\n",
            "Iteration 0, loss = 0.3944\n",
            "Checking accuracy on validation set\n",
            "Got 754 / 1000 correct (75.40)\n",
            "\n",
            "Iteration 0, loss = 0.4483\n",
            "Checking accuracy on validation set\n",
            "Got 741 / 1000 correct (74.10)\n",
            "\n"
          ],
          "name": "stdout"
        }
      ]
    },
    {
      "cell_type": "markdown",
      "metadata": {
        "tags": [
          "pdf-inline"
        ],
        "id": "RTmJKfgMEw_6",
        "colab_type": "text"
      },
      "source": [
        "## Describe what you did \n",
        "\n",
        "In the cell below you should write an explanation of what you did, any additional features that you implemented, and/or any graphs that you made in the process of training and evaluating your network."
      ]
    },
    {
      "cell_type": "markdown",
      "metadata": {
        "tags": [
          "pdf-inline"
        ],
        "id": "-HzWEEoDEw_9",
        "colab_type": "text"
      },
      "source": [
        "TODO: Describe what you did"
      ]
    },
    {
      "cell_type": "markdown",
      "metadata": {
        "id": "WSHHw7WyEw_-",
        "colab_type": "text"
      },
      "source": [
        "## Test set -- run this only once\n",
        "\n",
        "Now that we've gotten a result we're happy with, we test our final model on the test set (which you should store in best_model). Think about how this compares to your validation set accuracy."
      ]
    },
    {
      "cell_type": "code",
      "metadata": {
        "id": "twqcq0XOEw__",
        "colab_type": "code",
        "colab": {
          "base_uri": "https://localhost:8080/",
          "height": 55
        },
        "outputId": "766bbf14-8596-437c-eb60-6c015beee112"
      },
      "source": [
        "best_model = model\n",
        "check_accuracy_part34(loader_test, best_model)"
      ],
      "execution_count": 40,
      "outputs": [
        {
          "output_type": "stream",
          "text": [
            "Checking accuracy on test set\n",
            "Got 7380 / 10000 correct (73.80)\n"
          ],
          "name": "stdout"
        }
      ]
    },
    {
      "cell_type": "markdown",
      "metadata": {
        "id": "urL2SYH9SEKu",
        "colab_type": "text"
      },
      "source": [
        "## Tharnks for\n",
        "## Ref : https://github.com/haofeixu/cs231n/blob/master/assignment2/PyTorch.ipynb\n",
        "\n"
      ]
    },
    {
      "cell_type": "code",
      "metadata": {
        "id": "pAAqyJykSJiy",
        "colab_type": "code",
        "colab": {}
      },
      "source": [
        ""
      ],
      "execution_count": 0,
      "outputs": []
    }
  ]
}